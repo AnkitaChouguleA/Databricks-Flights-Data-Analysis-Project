{
 "cells": [
  {
   "cell_type": "code",
   "execution_count": 0,
   "metadata": {
    "application/vnd.databricks.v1+cell": {
     "cellMetadata": {
      "byteLimit": 2048000,
      "implicitDf": true,
      "rowLimit": 10000
     },
     "inputWidgets": {},
     "nuid": "bb310113-434a-456d-b0d0-c14e2eb23c16",
     "showTitle": false,
     "tableResultSettingsMap": {},
     "title": ""
    }
   },
   "outputs": [],
   "source": [
    "# %sql\n",
    "# CREATE VOLUME workspace.raw.rawvolume\n"
   ]
  },
  {
   "cell_type": "code",
   "execution_count": 0,
   "metadata": {
    "application/vnd.databricks.v1+cell": {
     "cellMetadata": {
      "byteLimit": 2048000,
      "implicitDf": true,
      "rowLimit": 10000
     },
     "inputWidgets": {},
     "nuid": "3f281595-9758-404e-a153-632c384d078d",
     "showTitle": false,
     "tableResultSettingsMap": {},
     "title": ""
    },
    "jupyter": {
     "outputs_hidden": true
    }
   },
   "outputs": [],
   "source": [
    "# dbutils.fs.mkdirs(\"/Volumes/workspace/raw/rawvolume/rawdata\")"
   ]
  },
  {
   "cell_type": "code",
   "execution_count": 0,
   "metadata": {
    "application/vnd.databricks.v1+cell": {
     "cellMetadata": {
      "byteLimit": 2048000,
      "rowLimit": 10000
     },
     "inputWidgets": {},
     "nuid": "701b4633-c70f-4c92-b3c8-8434bfc865ed",
     "showTitle": false,
     "tableResultSettingsMap": {},
     "title": ""
    }
   },
   "outputs": [],
   "source": [
    "dbutils.fs.mkdirs(\"/Volumes/workspace/raw/rawvolume/rawdata/bookings\")"
   ]
  },
  {
   "cell_type": "code",
   "execution_count": 0,
   "metadata": {
    "application/vnd.databricks.v1+cell": {
     "cellMetadata": {
      "byteLimit": 2048000,
      "rowLimit": 10000
     },
     "inputWidgets": {},
     "nuid": "198f472f-1ca2-4a73-bda2-c8968b39ca01",
     "showTitle": false,
     "tableResultSettingsMap": {},
     "title": ""
    }
   },
   "outputs": [],
   "source": [
    "# dbutils.fs.mkdirs(\"/Volumes/workspace/raw/rawvolume/rawdata/flights\")"
   ]
  },
  {
   "cell_type": "code",
   "execution_count": 0,
   "metadata": {
    "application/vnd.databricks.v1+cell": {
     "cellMetadata": {
      "byteLimit": 2048000,
      "rowLimit": 10000
     },
     "inputWidgets": {},
     "nuid": "a382a0ac-25fb-4a54-9069-45ab4ce41280",
     "showTitle": false,
     "tableResultSettingsMap": {},
     "title": ""
    }
   },
   "outputs": [],
   "source": [
    "# dbutils.fs.mkdirs(\"/Volumes/workspace/raw/rawvolume/rawdata/customers\")"
   ]
  },
  {
   "cell_type": "code",
   "execution_count": 0,
   "metadata": {
    "application/vnd.databricks.v1+cell": {
     "cellMetadata": {
      "byteLimit": 2048000,
      "rowLimit": 10000
     },
     "inputWidgets": {},
     "nuid": "ae3fb89d-f507-4ec5-b93b-ba57054f29a0",
     "showTitle": false,
     "tableResultSettingsMap": {},
     "title": ""
    }
   },
   "outputs": [],
   "source": [
    "# dbutils.fs.mkdirs(\"/Volumes/workspace/raw/rawvolume/rawdata/airports\")"
   ]
  },
  {
   "cell_type": "code",
   "execution_count": 0,
   "metadata": {
    "application/vnd.databricks.v1+cell": {
     "cellMetadata": {
      "byteLimit": 2048000,
      "rowLimit": 10000
     },
     "inputWidgets": {},
     "nuid": "d336ec83-4c3d-4597-a0e1-4e803fe870c1",
     "showTitle": false,
     "tableResultSettingsMap": {},
     "title": ""
    }
   },
   "outputs": [],
   "source": [
    "import requests\n",
    "import base64\n",
    "import pandas as pd\n",
    "from io import StringIO\n",
    "\n",
    "def load_github_csv_spark(filename, folder):\n",
    "    \"\"\"\n",
    "    Fetch a CSV file from GitHub using the API, load it into a Spark DataFrame,\n",
    "    and save it to a Unity Catalog volume or S3 bucket in append mode.\n",
    "\n",
    "    Args:\n",
    "        filename (str): Name of the CSV file in GitHub (e.g., 'dim_flights.csv')\n",
    "        folder (str): Subfolder in the storage location (e.g., 'flights')\n",
    "    \"\"\"\n",
    "\n",
    "    # -----------------------------\n",
    "    # Step 1: Build GitHub API URL\n",
    "    # -----------------------------\n",
    "    # GitHub API returns JSON metadata, including Base64-encoded file content\n",
    "    url = f\"https://api.github.com/repos/AnkitaChouguleA/AnshLambaYoutube/contents/Databricks%20End%20To%20End%20Project/{filename}\"\n",
    "\n",
    "    # -----------------------------\n",
    "    # Step 2: Call GitHub API\n",
    "    # -----------------------------\n",
    "    response = requests.get(url)\n",
    "    if response.status_code == 200:\n",
    "\n",
    "        # -----------------------------\n",
    "        # Step 3: Decode Base64 content from GitHub\n",
    "        # -----------------------------\n",
    "        # GitHub API encodes file content in Base64\n",
    "        file_content = response.json()['content']          # Get 'content' from JSON\n",
    "        decoded_content = base64.b64decode(file_content)  # Decode Base64 to bytes\n",
    "        csv_text = decoded_content.decode('utf-8')        # Convert bytes → string\n",
    "\n",
    "        # -----------------------------\n",
    "        # Step 4: Load CSV into pandas DataFrame\n",
    "        # -----------------------------\n",
    "        # StringIO lets pandas read the string as a CSV file\n",
    "        pdf = pd.read_csv(StringIO(csv_text))\n",
    "\n",
    "        # -----------------------------\n",
    "        # Step 5: Convert pandas → Spark DataFrame\n",
    "        # -----------------------------\n",
    "        # Spark can now work with the data\n",
    "        df = spark.createDataFrame(pdf)\n",
    "\n",
    "        # -----------------------------\n",
    "        # Step 6: Define storage path\n",
    "        # -----------------------------\n",
    "        # Unity Catalog volume path or S3 bucket path\n",
    "        # Example Unity Catalog path:\n",
    "        save_path = f\"/Volumes/workspace/raw/rawvolume/rawdata/{folder}/\"\n",
    "\n",
    "        # -----------------------------\n",
    "        # Step 7: Save DataFrame in append mode\n",
    "        # -----------------------------\n",
    "        # mode(\"append\") → add new files without deleting existing data\n",
    "        df.write.mode(\"append\").parquet(save_path)\n",
    "\n",
    "        # -----------------------------\n",
    "        # Step 8: Print success message + show sample data\n",
    "        # -----------------------------\n",
    "        print(f\"✅ {filename} appended to {save_path}\")\n",
    "        df.show(5)  # Show first 5 rows for verification\n",
    "\n",
    "        # -----------------------------\n",
    "        # Step 9: Return Spark DataFrame\n",
    "        # -----------------------------\n",
    "        return df\n",
    "\n",
    "    else:\n",
    "        # -----------------------------\n",
    "        # Step 10: Error handling\n",
    "        # -----------------------------\n",
    "        print(f\"❌ Error fetching {filename}: {response.status_code}\")\n",
    "        print(response.text)\n",
    "        return None\n"
   ]
  },
  {
   "cell_type": "code",
   "execution_count": 0,
   "metadata": {
    "application/vnd.databricks.v1+cell": {
     "cellMetadata": {
      "byteLimit": 2048000,
      "rowLimit": 10000
     },
     "inputWidgets": {},
     "nuid": "f25920d7-9589-4bd2-9c77-83468ff84098",
     "showTitle": false,
     "tableResultSettingsMap": {},
     "title": ""
    }
   },
   "outputs": [],
   "source": [
    "# Load Flights dataset\n",
    "df_flights = load_github_csv_spark(\"dim_flights.csv\", \"flights\")\n",
    "\n",
    "# Load Customers dataset\n",
    "df_customers = load_github_csv_spark(\"dim_passengers.csv\", \"customers\")\n",
    "\n",
    "# Load Bookings dataset\n",
    "df_bookings = load_github_csv_spark(\"fact_bookings.csv\", \"bookings\")\n",
    "\n",
    "# Load Airports dataset\n",
    "df_airports = load_github_csv_spark(\"dim_airports.csv\", \"airports\")\n"
   ]
  },
  {
   "cell_type": "code",
   "execution_count": 0,
   "metadata": {
    "application/vnd.databricks.v1+cell": {
     "cellMetadata": {
      "byteLimit": 2048000,
      "rowLimit": 10000
     },
     "inputWidgets": {},
     "nuid": "78ec1b34-f750-4033-a9b0-53fd092b7029",
     "showTitle": false,
     "tableResultSettingsMap": {},
     "title": ""
    }
   },
   "outputs": [],
   "source": [
    "# Check if flights CSV was written to the Unity Catalog volume\n",
    "display(dbutils.fs.ls(\"/Volumes/workspace/raw/rawvolume/rawdata/\"))"
   ]
  },
  {
   "cell_type": "code",
   "execution_count": 0,
   "metadata": {
    "application/vnd.databricks.v1+cell": {
     "cellMetadata": {
      "byteLimit": 2048000,
      "rowLimit": 10000
     },
     "inputWidgets": {},
     "nuid": "ca54e0c4-2c49-4e68-8305-66c8f00783cf",
     "showTitle": false,
     "tableResultSettingsMap": {},
     "title": ""
    }
   },
   "outputs": [],
   "source": [
    "# Check if flights CSV was written to the Unity Catalog volume\n",
    "display(dbutils.fs.ls(\"/Volumes/workspace/raw/rawvolume/rawdata/flights/\"))"
   ]
  },
  {
   "cell_type": "code",
   "execution_count": 0,
   "metadata": {
    "application/vnd.databricks.v1+cell": {
     "cellMetadata": {
      "byteLimit": 2048000,
      "implicitDf": true,
      "rowLimit": 10000
     },
     "inputWidgets": {},
     "nuid": "8b45d641-e115-4231-8709-875cc351e16a",
     "showTitle": false,
     "tableResultSettingsMap": {},
     "title": ""
    }
   },
   "outputs": [],
   "source": [
    "# %sql\n",
    "# CREATE SCHEMA workspace.gold"
   ]
  },
  {
   "cell_type": "code",
   "execution_count": 0,
   "metadata": {
    "application/vnd.databricks.v1+cell": {
     "cellMetadata": {
      "byteLimit": 2048000,
      "implicitDf": true,
      "rowLimit": 10000
     },
     "inputWidgets": {},
     "nuid": "962e2570-3bf0-4cd0-b74c-d3a5342c0702",
     "showTitle": false,
     "tableResultSettingsMap": {},
     "title": ""
    }
   },
   "outputs": [],
   "source": [
    "# %sql\n",
    "# CREATE SCHEMA workspace.silver"
   ]
  },
  {
   "cell_type": "code",
   "execution_count": 0,
   "metadata": {
    "application/vnd.databricks.v1+cell": {
     "cellMetadata": {
      "byteLimit": 2048000,
      "implicitDf": true,
      "rowLimit": 10000
     },
     "inputWidgets": {},
     "nuid": "13c12f4a-827e-4c4a-8dcd-5a6ed6062f57",
     "showTitle": false,
     "tableResultSettingsMap": {},
     "title": ""
    }
   },
   "outputs": [],
   "source": [
    "# %sql\n",
    "# CREATE SCHEMA workspace.bronze"
   ]
  },
  {
   "cell_type": "code",
   "execution_count": 0,
   "metadata": {
    "application/vnd.databricks.v1+cell": {
     "cellMetadata": {
      "byteLimit": 2048000,
      "implicitDf": true,
      "rowLimit": 10000
     },
     "inputWidgets": {},
     "nuid": "8759895a-5b09-4ac7-b28b-6c6cf5c5e4cd",
     "showTitle": false,
     "tableResultSettingsMap": {},
     "title": ""
    }
   },
   "outputs": [],
   "source": [
    "# %sql\n",
    "# CREATE VOLUME workspace.gold.goldvolume"
   ]
  },
  {
   "cell_type": "code",
   "execution_count": 0,
   "metadata": {
    "application/vnd.databricks.v1+cell": {
     "cellMetadata": {
      "byteLimit": 2048000,
      "implicitDf": true,
      "rowLimit": 10000
     },
     "inputWidgets": {},
     "nuid": "e7b1d5a6-2071-4696-895a-8745c889a4d9",
     "showTitle": false,
     "tableResultSettingsMap": {},
     "title": ""
    }
   },
   "outputs": [],
   "source": [
    "# %sql\n",
    "# CREATE VOLUME workspace.silver.silvervolume"
   ]
  },
  {
   "cell_type": "code",
   "execution_count": 0,
   "metadata": {
    "application/vnd.databricks.v1+cell": {
     "cellMetadata": {
      "byteLimit": 2048000,
      "implicitDf": true,
      "rowLimit": 10000
     },
     "inputWidgets": {},
     "nuid": "a6ebad65-a79e-46a5-81ab-8fb5a59889d1",
     "showTitle": false,
     "tableResultSettingsMap": {},
     "title": ""
    }
   },
   "outputs": [],
   "source": [
    "# %sql\n",
    "# CREATE VOLUME workspace.bronze.bronzevolume"
   ]
  },
  {
   "cell_type": "code",
   "execution_count": 0,
   "metadata": {
    "application/vnd.databricks.v1+cell": {
     "cellMetadata": {
      "byteLimit": 2048000,
      "rowLimit": 10000
     },
     "inputWidgets": {},
     "nuid": "4fd1775e-2d9f-4b57-aec4-9c421faa3a2a",
     "showTitle": false,
     "tableResultSettingsMap": {},
     "title": ""
    }
   },
   "outputs": [],
   "source": [
    "# Load incremental bookings CSV from GitHub into rawdata/bookings\n",
    "df_increment = load_github_csv_spark(\n",
    "    \"fact_bookings_increment.csv\",  # New incremental CSV\n",
    "    \"bookings\"                       # Matches your existing rawdata folder\n",
    ")\n"
   ]
  },
  {
   "cell_type": "code",
   "execution_count": 0,
   "metadata": {
    "application/vnd.databricks.v1+cell": {
     "cellMetadata": {
      "byteLimit": 2048000,
      "implicitDf": true,
      "rowLimit": 10000
     },
     "inputWidgets": {},
     "nuid": "e8d4b762-e5d2-41b3-8745-b448fd3216f8",
     "showTitle": false,
     "tableResultSettingsMap": {},
     "title": ""
    }
   },
   "outputs": [],
   "source": [
    "%sql\n",
    "select * from delta.`/Volumes/workspace/bronze/bronzevolume/flights/data/`"
   ]
  },
  {
   "cell_type": "code",
   "execution_count": 0,
   "metadata": {
    "application/vnd.databricks.v1+cell": {
     "cellMetadata": {
      "byteLimit": 2048000,
      "rowLimit": 10000
     },
     "inputWidgets": {},
     "nuid": "8ecbc5be-ac7c-4e36-b6e3-f1386d59a5bf",
     "showTitle": false,
     "tableResultSettingsMap": {},
     "title": ""
    }
   },
   "outputs": [],
   "source": [
    "# Load incremental passengers CSV from GitHub into rawdata/customers\n",
    "df_increment = load_github_csv_spark(\n",
    "    \"dim_passengers_increment.csv\",  # New incremental CSV\n",
    "    \"customers\"                       # Matches your existing rawdata folder\n",
    ")\n"
   ]
  },
  {
   "cell_type": "code",
   "execution_count": 0,
   "metadata": {
    "application/vnd.databricks.v1+cell": {
     "cellMetadata": {
      "byteLimit": 2048000,
      "rowLimit": 10000
     },
     "inputWidgets": {},
     "nuid": "b6c84915-3c60-4ccc-aa3b-93b6fdc253eb",
     "showTitle": false,
     "tableResultSettingsMap": {},
     "title": ""
    }
   },
   "outputs": [],
   "source": [
    "# Load incremental bookings CSV from GitHub into rawdata/airports\n",
    "df_increment = load_github_csv_spark(\n",
    "    \"dim_airports_increment.csv\",  # New incremental CSV\n",
    "    \"airports\"                       # Matches your existing rawdata folder\n",
    ")\n"
   ]
  },
  {
   "cell_type": "code",
   "execution_count": 0,
   "metadata": {
    "application/vnd.databricks.v1+cell": {
     "cellMetadata": {
      "byteLimit": 2048000,
      "rowLimit": 10000
     },
     "inputWidgets": {},
     "nuid": "bd9403c1-695d-48cc-87fb-6044e484830f",
     "showTitle": false,
     "tableResultSettingsMap": {},
     "title": ""
    }
   },
   "outputs": [],
   "source": [
    "# Load incremental bookings CSV from GitHub into rawdata/flights\n",
    "df_increment = load_github_csv_spark(\n",
    "    \"dim_flights_increment.csv\",  # New incremental CSV\n",
    "    \"flights\"                       # Matches your existing rawdata folder\n",
    ")\n"
   ]
  },
  {
   "cell_type": "code",
   "execution_count": 0,
   "metadata": {
    "application/vnd.databricks.v1+cell": {
     "cellMetadata": {
      "byteLimit": 2048000,
      "implicitDf": true,
      "rowLimit": 10000
     },
     "inputWidgets": {},
     "nuid": "58268028-8f62-42a3-99ea-e8415ba6ee99",
     "showTitle": false,
     "tableResultSettingsMap": {},
     "title": ""
    }
   },
   "outputs": [],
   "source": [
    "%sql\n",
    "select * from delta.`/Volumes/workspace/bronze/bronzevolume/flights/data/`"
   ]
  },
  {
   "cell_type": "code",
   "execution_count": 0,
   "metadata": {
    "application/vnd.databricks.v1+cell": {
     "cellMetadata": {
      "byteLimit": 2048000,
      "rowLimit": 10000
     },
     "inputWidgets": {},
     "nuid": "dfdd8968-b06f-44c4-a5c8-b11390330ce6",
     "showTitle": false,
     "tableResultSettingsMap": {},
     "title": ""
    }
   },
   "outputs": [],
   "source": [
    "# Load passengers SCD CSV from GitHub into rawdata/passengers\n",
    "df_passengers_scd = load_github_csv_spark(\n",
    "    \"dim_passengers_scd.csv\",   # Your file on GitHub\n",
    "    \"customers\"                # Target subfolder inside rawdata\n",
    ")"
   ]
  },
  {
   "cell_type": "code",
   "execution_count": 0,
   "metadata": {
    "application/vnd.databricks.v1+cell": {
     "cellMetadata": {},
     "inputWidgets": {},
     "nuid": "d9962e48-1ac3-4117-8097-46cfa65dadb1",
     "showTitle": false,
     "tableResultSettingsMap": {},
     "title": ""
    }
   },
   "outputs": [],
   "source": []
  }
 ],
 "metadata": {
  "application/vnd.databricks.v1+notebook": {
   "computePreferences": {
    "hardware": {
     "accelerator": null,
     "gpuPoolId": null,
     "memory": null
    }
   },
   "dashboards": [],
   "environmentMetadata": {
    "base_environment": "",
    "environment_version": "2"
   },
   "inputWidgetPreferences": null,
   "language": "python",
   "notebookMetadata": {
    "mostRecentlyExecutedCommandWithImplicitDF": {
     "commandId": 5105470722047464,
     "dataframes": [
      "_sqldf"
     ]
    },
    "pythonIndentUnit": 4
   },
   "notebookName": "Setup",
   "widgets": {}
  },
  "language_info": {
   "name": "python"
  }
 },
 "nbformat": 4,
 "nbformat_minor": 0
}
